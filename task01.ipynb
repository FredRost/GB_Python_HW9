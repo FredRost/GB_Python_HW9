{
 "cells": [
  {
   "attachments": {},
   "cell_type": "markdown",
   "metadata": {},
   "source": [
    "# Домашнее задание №1\n",
    "    Работать с файлом california_housing_train.csv, который находится в папке sample_data. \n",
    "    Определить среднюю стоимость дома, где кол-во людей от 0 до 500 (population)."
   ]
  },
  {
   "cell_type": "code",
   "execution_count": 8,
   "metadata": {},
   "outputs": [
    {
     "data": {
      "text/plain": [
       "206683.83635227982"
      ]
     },
     "execution_count": 8,
     "metadata": {},
     "output_type": "execute_result"
    }
   ],
   "source": [
    "# Библиотека для работы с табличными данными\n",
    "import pandas as pd\n",
    "# Прочтем файл .csv с помощью библиотеки pandas\n",
    "df = pd.read_csv('sample_data/california_housing_train.csv')\n",
    "df[(df['population'] > 0) & (df['population'] < 500)]['median_house_value'].mean()"
   ]
  }
 ],
 "metadata": {
  "kernelspec": {
   "display_name": "Python 3",
   "language": "python",
   "name": "python3"
  },
  "language_info": {
   "codemirror_mode": {
    "name": "ipython",
    "version": 3
   },
   "file_extension": ".py",
   "mimetype": "text/x-python",
   "name": "python",
   "nbconvert_exporter": "python",
   "pygments_lexer": "ipython3",
   "version": "3.11.4"
  },
  "orig_nbformat": 4
 },
 "nbformat": 4,
 "nbformat_minor": 2
}
